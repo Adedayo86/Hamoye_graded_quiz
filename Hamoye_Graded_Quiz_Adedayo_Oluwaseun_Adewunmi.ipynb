{
 "cells": [
  {
   "cell_type": "code",
   "execution_count": 13,
   "metadata": {},
   "outputs": [],
   "source": [
    "import numpy as np\n",
    "import pandas as pd\n",
    "import matplotlib.pyplot as plt\n",
    "import seaborn as sns"
   ]
  },
  {
   "cell_type": "code",
   "execution_count": 14,
   "metadata": {},
   "outputs": [],
   "source": [
    "A = [1,2,3,4,5,6]\n",
    "B = [13,21,34]\n",
    "\n",
    "A_B = A.append(B)\n"
   ]
  },
  {
   "cell_type": "code",
   "execution_count": 15,
   "metadata": {},
   "outputs": [],
   "source": [
    "A_B"
   ]
  },
  {
   "cell_type": "code",
   "execution_count": 16,
   "metadata": {},
   "outputs": [],
   "source": [
    "AB = A.extend(B)\n",
    "AB"
   ]
  },
  {
   "cell_type": "code",
   "execution_count": 17,
   "metadata": {},
   "outputs": [],
   "source": [
    "AB"
   ]
  },
  {
   "cell_type": "code",
   "execution_count": 18,
   "metadata": {},
   "outputs": [
    {
     "name": "stdout",
     "output_type": "stream",
     "text": [
      "None\n"
     ]
    }
   ],
   "source": [
    "print(AB)"
   ]
  },
  {
   "cell_type": "code",
   "execution_count": 19,
   "metadata": {},
   "outputs": [
    {
     "name": "stdout",
     "output_type": "stream",
     "text": [
      "None\n"
     ]
    }
   ],
   "source": [
    "print(A_B)"
   ]
  },
  {
   "cell_type": "code",
   "execution_count": 20,
   "metadata": {},
   "outputs": [
    {
     "data": {
      "text/plain": [
       "array([[1., 0., 0.],\n",
       "       [0., 1., 0.],\n",
       "       [0., 0., 1.]])"
      ]
     },
     "execution_count": 20,
     "metadata": {},
     "output_type": "execute_result"
    }
   ],
   "source": [
    "np.identity(3)"
   ]
  },
  {
   "cell_type": "code",
   "execution_count": 23,
   "metadata": {},
   "outputs": [],
   "source": [
    "url = 'https://raw.githubusercontent.com/WalePhenomenon/climate_change/master/fuel_ferc1.csv'"
   ]
  },
  {
   "cell_type": "code",
   "execution_count": 25,
   "metadata": {},
   "outputs": [],
   "source": [
    "fuel_data = pd.read_csv(url)"
   ]
  },
  {
   "cell_type": "code",
   "execution_count": 26,
   "metadata": {
    "scrolled": false
   },
   "outputs": [
    {
     "data": {
      "text/html": [
       "<div>\n",
       "<style scoped>\n",
       "    .dataframe tbody tr th:only-of-type {\n",
       "        vertical-align: middle;\n",
       "    }\n",
       "\n",
       "    .dataframe tbody tr th {\n",
       "        vertical-align: top;\n",
       "    }\n",
       "\n",
       "    .dataframe thead th {\n",
       "        text-align: right;\n",
       "    }\n",
       "</style>\n",
       "<table border=\"1\" class=\"dataframe\">\n",
       "  <thead>\n",
       "    <tr style=\"text-align: right;\">\n",
       "      <th></th>\n",
       "      <th>record_id</th>\n",
       "      <th>utility_id_ferc1</th>\n",
       "      <th>report_year</th>\n",
       "      <th>plant_name_ferc1</th>\n",
       "      <th>fuel_type_code_pudl</th>\n",
       "      <th>fuel_unit</th>\n",
       "      <th>fuel_qty_burned</th>\n",
       "      <th>fuel_mmbtu_per_unit</th>\n",
       "      <th>fuel_cost_per_unit_burned</th>\n",
       "      <th>fuel_cost_per_unit_delivered</th>\n",
       "      <th>fuel_cost_per_mmbtu</th>\n",
       "    </tr>\n",
       "  </thead>\n",
       "  <tbody>\n",
       "    <tr>\n",
       "      <th>0</th>\n",
       "      <td>f1_fuel_1994_12_1_0_7</td>\n",
       "      <td>1</td>\n",
       "      <td>1994</td>\n",
       "      <td>rockport</td>\n",
       "      <td>coal</td>\n",
       "      <td>ton</td>\n",
       "      <td>5377489.0</td>\n",
       "      <td>16.590</td>\n",
       "      <td>18.59</td>\n",
       "      <td>18.53</td>\n",
       "      <td>1.121</td>\n",
       "    </tr>\n",
       "    <tr>\n",
       "      <th>1</th>\n",
       "      <td>f1_fuel_1994_12_1_0_10</td>\n",
       "      <td>1</td>\n",
       "      <td>1994</td>\n",
       "      <td>rockport total plant</td>\n",
       "      <td>coal</td>\n",
       "      <td>ton</td>\n",
       "      <td>10486945.0</td>\n",
       "      <td>16.592</td>\n",
       "      <td>18.58</td>\n",
       "      <td>18.53</td>\n",
       "      <td>1.120</td>\n",
       "    </tr>\n",
       "    <tr>\n",
       "      <th>2</th>\n",
       "      <td>f1_fuel_1994_12_2_0_1</td>\n",
       "      <td>2</td>\n",
       "      <td>1994</td>\n",
       "      <td>gorgas</td>\n",
       "      <td>coal</td>\n",
       "      <td>ton</td>\n",
       "      <td>2978683.0</td>\n",
       "      <td>24.130</td>\n",
       "      <td>39.72</td>\n",
       "      <td>38.12</td>\n",
       "      <td>1.650</td>\n",
       "    </tr>\n",
       "    <tr>\n",
       "      <th>3</th>\n",
       "      <td>f1_fuel_1994_12_2_0_7</td>\n",
       "      <td>2</td>\n",
       "      <td>1994</td>\n",
       "      <td>barry</td>\n",
       "      <td>coal</td>\n",
       "      <td>ton</td>\n",
       "      <td>3739484.0</td>\n",
       "      <td>23.950</td>\n",
       "      <td>47.21</td>\n",
       "      <td>45.99</td>\n",
       "      <td>1.970</td>\n",
       "    </tr>\n",
       "    <tr>\n",
       "      <th>4</th>\n",
       "      <td>f1_fuel_1994_12_2_0_10</td>\n",
       "      <td>2</td>\n",
       "      <td>1994</td>\n",
       "      <td>chickasaw</td>\n",
       "      <td>gas</td>\n",
       "      <td>mcf</td>\n",
       "      <td>40533.0</td>\n",
       "      <td>1.000</td>\n",
       "      <td>2.77</td>\n",
       "      <td>2.77</td>\n",
       "      <td>2.570</td>\n",
       "    </tr>\n",
       "    <tr>\n",
       "      <th>...</th>\n",
       "      <td>...</td>\n",
       "      <td>...</td>\n",
       "      <td>...</td>\n",
       "      <td>...</td>\n",
       "      <td>...</td>\n",
       "      <td>...</td>\n",
       "      <td>...</td>\n",
       "      <td>...</td>\n",
       "      <td>...</td>\n",
       "      <td>...</td>\n",
       "      <td>...</td>\n",
       "    </tr>\n",
       "    <tr>\n",
       "      <th>29518</th>\n",
       "      <td>f1_fuel_2018_12_12_0_13</td>\n",
       "      <td>12</td>\n",
       "      <td>2018</td>\n",
       "      <td>neil simpson ct #1</td>\n",
       "      <td>gas</td>\n",
       "      <td>mcf</td>\n",
       "      <td>18799.0</td>\n",
       "      <td>1.059</td>\n",
       "      <td>4.78</td>\n",
       "      <td>4.78</td>\n",
       "      <td>9.030</td>\n",
       "    </tr>\n",
       "    <tr>\n",
       "      <th>29519</th>\n",
       "      <td>f1_fuel_2018_12_12_1_1</td>\n",
       "      <td>12</td>\n",
       "      <td>2018</td>\n",
       "      <td>cheyenne prairie 58%</td>\n",
       "      <td>gas</td>\n",
       "      <td>mcf</td>\n",
       "      <td>806730.0</td>\n",
       "      <td>1.050</td>\n",
       "      <td>3.65</td>\n",
       "      <td>3.65</td>\n",
       "      <td>6.950</td>\n",
       "    </tr>\n",
       "    <tr>\n",
       "      <th>29520</th>\n",
       "      <td>f1_fuel_2018_12_12_1_10</td>\n",
       "      <td>12</td>\n",
       "      <td>2018</td>\n",
       "      <td>lange ct facility</td>\n",
       "      <td>gas</td>\n",
       "      <td>mcf</td>\n",
       "      <td>104554.0</td>\n",
       "      <td>1.060</td>\n",
       "      <td>4.77</td>\n",
       "      <td>4.77</td>\n",
       "      <td>8.990</td>\n",
       "    </tr>\n",
       "    <tr>\n",
       "      <th>29521</th>\n",
       "      <td>f1_fuel_2018_12_12_1_13</td>\n",
       "      <td>12</td>\n",
       "      <td>2018</td>\n",
       "      <td>wygen 3 bhp 52%</td>\n",
       "      <td>coal</td>\n",
       "      <td>ton</td>\n",
       "      <td>315945.0</td>\n",
       "      <td>16.108</td>\n",
       "      <td>3.06</td>\n",
       "      <td>14.76</td>\n",
       "      <td>1.110</td>\n",
       "    </tr>\n",
       "    <tr>\n",
       "      <th>29522</th>\n",
       "      <td>f1_fuel_2018_12_12_1_14</td>\n",
       "      <td>12</td>\n",
       "      <td>2018</td>\n",
       "      <td>wygen 3 bhp 52%</td>\n",
       "      <td>gas</td>\n",
       "      <td>mcf</td>\n",
       "      <td>17853.0</td>\n",
       "      <td>1.059</td>\n",
       "      <td>0.00</td>\n",
       "      <td>0.00</td>\n",
       "      <td>11.680</td>\n",
       "    </tr>\n",
       "  </tbody>\n",
       "</table>\n",
       "<p>29523 rows × 11 columns</p>\n",
       "</div>"
      ],
      "text/plain": [
       "                     record_id  utility_id_ferc1  report_year  \\\n",
       "0        f1_fuel_1994_12_1_0_7                 1         1994   \n",
       "1       f1_fuel_1994_12_1_0_10                 1         1994   \n",
       "2        f1_fuel_1994_12_2_0_1                 2         1994   \n",
       "3        f1_fuel_1994_12_2_0_7                 2         1994   \n",
       "4       f1_fuel_1994_12_2_0_10                 2         1994   \n",
       "...                        ...               ...          ...   \n",
       "29518  f1_fuel_2018_12_12_0_13                12         2018   \n",
       "29519   f1_fuel_2018_12_12_1_1                12         2018   \n",
       "29520  f1_fuel_2018_12_12_1_10                12         2018   \n",
       "29521  f1_fuel_2018_12_12_1_13                12         2018   \n",
       "29522  f1_fuel_2018_12_12_1_14                12         2018   \n",
       "\n",
       "           plant_name_ferc1 fuel_type_code_pudl fuel_unit  fuel_qty_burned  \\\n",
       "0                  rockport                coal       ton        5377489.0   \n",
       "1      rockport total plant                coal       ton       10486945.0   \n",
       "2                    gorgas                coal       ton        2978683.0   \n",
       "3                     barry                coal       ton        3739484.0   \n",
       "4                 chickasaw                 gas       mcf          40533.0   \n",
       "...                     ...                 ...       ...              ...   \n",
       "29518    neil simpson ct #1                 gas       mcf          18799.0   \n",
       "29519  cheyenne prairie 58%                 gas       mcf         806730.0   \n",
       "29520     lange ct facility                 gas       mcf         104554.0   \n",
       "29521       wygen 3 bhp 52%                coal       ton         315945.0   \n",
       "29522       wygen 3 bhp 52%                 gas       mcf          17853.0   \n",
       "\n",
       "       fuel_mmbtu_per_unit  fuel_cost_per_unit_burned  \\\n",
       "0                   16.590                      18.59   \n",
       "1                   16.592                      18.58   \n",
       "2                   24.130                      39.72   \n",
       "3                   23.950                      47.21   \n",
       "4                    1.000                       2.77   \n",
       "...                    ...                        ...   \n",
       "29518                1.059                       4.78   \n",
       "29519                1.050                       3.65   \n",
       "29520                1.060                       4.77   \n",
       "29521               16.108                       3.06   \n",
       "29522                1.059                       0.00   \n",
       "\n",
       "       fuel_cost_per_unit_delivered  fuel_cost_per_mmbtu  \n",
       "0                             18.53                1.121  \n",
       "1                             18.53                1.120  \n",
       "2                             38.12                1.650  \n",
       "3                             45.99                1.970  \n",
       "4                              2.77                2.570  \n",
       "...                             ...                  ...  \n",
       "29518                          4.78                9.030  \n",
       "29519                          3.65                6.950  \n",
       "29520                          4.77                8.990  \n",
       "29521                         14.76                1.110  \n",
       "29522                          0.00               11.680  \n",
       "\n",
       "[29523 rows x 11 columns]"
      ]
     },
     "execution_count": 26,
     "metadata": {},
     "output_type": "execute_result"
    }
   ],
   "source": [
    "fuel_data"
   ]
  },
  {
   "cell_type": "code",
   "execution_count": 28,
   "metadata": {},
   "outputs": [
    {
     "data": {
      "text/html": [
       "<div>\n",
       "<style scoped>\n",
       "    .dataframe tbody tr th:only-of-type {\n",
       "        vertical-align: middle;\n",
       "    }\n",
       "\n",
       "    .dataframe tbody tr th {\n",
       "        vertical-align: top;\n",
       "    }\n",
       "\n",
       "    .dataframe thead th {\n",
       "        text-align: right;\n",
       "    }\n",
       "</style>\n",
       "<table border=\"1\" class=\"dataframe\">\n",
       "  <thead>\n",
       "    <tr style=\"text-align: right;\">\n",
       "      <th></th>\n",
       "      <th>utility_id_ferc1</th>\n",
       "      <th>report_year</th>\n",
       "      <th>fuel_qty_burned</th>\n",
       "      <th>fuel_mmbtu_per_unit</th>\n",
       "      <th>fuel_cost_per_unit_burned</th>\n",
       "      <th>fuel_cost_per_unit_delivered</th>\n",
       "      <th>fuel_cost_per_mmbtu</th>\n",
       "    </tr>\n",
       "  </thead>\n",
       "  <tbody>\n",
       "    <tr>\n",
       "      <th>count</th>\n",
       "      <td>29523.000000</td>\n",
       "      <td>29523.000000</td>\n",
       "      <td>2.952300e+04</td>\n",
       "      <td>29523.000000</td>\n",
       "      <td>29523.000000</td>\n",
       "      <td>2.952300e+04</td>\n",
       "      <td>29523.000000</td>\n",
       "    </tr>\n",
       "    <tr>\n",
       "      <th>mean</th>\n",
       "      <td>118.601836</td>\n",
       "      <td>2005.806050</td>\n",
       "      <td>2.622119e+06</td>\n",
       "      <td>8.492111</td>\n",
       "      <td>208.649031</td>\n",
       "      <td>9.175704e+02</td>\n",
       "      <td>19.304354</td>\n",
       "    </tr>\n",
       "    <tr>\n",
       "      <th>std</th>\n",
       "      <td>74.178353</td>\n",
       "      <td>7.025483</td>\n",
       "      <td>9.118004e+06</td>\n",
       "      <td>10.600220</td>\n",
       "      <td>2854.490090</td>\n",
       "      <td>6.877593e+04</td>\n",
       "      <td>2091.540939</td>\n",
       "    </tr>\n",
       "    <tr>\n",
       "      <th>min</th>\n",
       "      <td>1.000000</td>\n",
       "      <td>1994.000000</td>\n",
       "      <td>1.000000e+00</td>\n",
       "      <td>0.000001</td>\n",
       "      <td>-276.080000</td>\n",
       "      <td>-8.749370e+02</td>\n",
       "      <td>-41.501000</td>\n",
       "    </tr>\n",
       "    <tr>\n",
       "      <th>25%</th>\n",
       "      <td>55.000000</td>\n",
       "      <td>2000.000000</td>\n",
       "      <td>1.381700e+04</td>\n",
       "      <td>1.024000</td>\n",
       "      <td>5.207000</td>\n",
       "      <td>3.778500e+00</td>\n",
       "      <td>1.940000</td>\n",
       "    </tr>\n",
       "    <tr>\n",
       "      <th>50%</th>\n",
       "      <td>122.000000</td>\n",
       "      <td>2006.000000</td>\n",
       "      <td>2.533220e+05</td>\n",
       "      <td>5.762694</td>\n",
       "      <td>26.000000</td>\n",
       "      <td>1.737100e+01</td>\n",
       "      <td>4.127000</td>\n",
       "    </tr>\n",
       "    <tr>\n",
       "      <th>75%</th>\n",
       "      <td>176.000000</td>\n",
       "      <td>2012.000000</td>\n",
       "      <td>1.424034e+06</td>\n",
       "      <td>17.006000</td>\n",
       "      <td>47.113000</td>\n",
       "      <td>4.213700e+01</td>\n",
       "      <td>7.745000</td>\n",
       "    </tr>\n",
       "    <tr>\n",
       "      <th>max</th>\n",
       "      <td>514.000000</td>\n",
       "      <td>2018.000000</td>\n",
       "      <td>5.558942e+08</td>\n",
       "      <td>341.260000</td>\n",
       "      <td>139358.000000</td>\n",
       "      <td>7.964521e+06</td>\n",
       "      <td>359278.000000</td>\n",
       "    </tr>\n",
       "  </tbody>\n",
       "</table>\n",
       "</div>"
      ],
      "text/plain": [
       "       utility_id_ferc1   report_year  fuel_qty_burned  fuel_mmbtu_per_unit  \\\n",
       "count      29523.000000  29523.000000     2.952300e+04         29523.000000   \n",
       "mean         118.601836   2005.806050     2.622119e+06             8.492111   \n",
       "std           74.178353      7.025483     9.118004e+06            10.600220   \n",
       "min            1.000000   1994.000000     1.000000e+00             0.000001   \n",
       "25%           55.000000   2000.000000     1.381700e+04             1.024000   \n",
       "50%          122.000000   2006.000000     2.533220e+05             5.762694   \n",
       "75%          176.000000   2012.000000     1.424034e+06            17.006000   \n",
       "max          514.000000   2018.000000     5.558942e+08           341.260000   \n",
       "\n",
       "       fuel_cost_per_unit_burned  fuel_cost_per_unit_delivered  \\\n",
       "count               29523.000000                  2.952300e+04   \n",
       "mean                  208.649031                  9.175704e+02   \n",
       "std                  2854.490090                  6.877593e+04   \n",
       "min                  -276.080000                 -8.749370e+02   \n",
       "25%                     5.207000                  3.778500e+00   \n",
       "50%                    26.000000                  1.737100e+01   \n",
       "75%                    47.113000                  4.213700e+01   \n",
       "max                139358.000000                  7.964521e+06   \n",
       "\n",
       "       fuel_cost_per_mmbtu  \n",
       "count         29523.000000  \n",
       "mean             19.304354  \n",
       "std            2091.540939  \n",
       "min             -41.501000  \n",
       "25%               1.940000  \n",
       "50%               4.127000  \n",
       "75%               7.745000  \n",
       "max          359278.000000  "
      ]
     },
     "execution_count": 28,
     "metadata": {},
     "output_type": "execute_result"
    }
   ],
   "source": [
    "fuel_data.describe()"
   ]
  },
  {
   "cell_type": "code",
   "execution_count": 29,
   "metadata": {},
   "outputs": [
    {
     "data": {
      "text/plain": [
       "record_id                         0\n",
       "utility_id_ferc1                  0\n",
       "report_year                       0\n",
       "plant_name_ferc1                  0\n",
       "fuel_type_code_pudl               0\n",
       "fuel_unit                       180\n",
       "fuel_qty_burned                   0\n",
       "fuel_mmbtu_per_unit               0\n",
       "fuel_cost_per_unit_burned         0\n",
       "fuel_cost_per_unit_delivered      0\n",
       "fuel_cost_per_mmbtu               0\n",
       "dtype: int64"
      ]
     },
     "execution_count": 29,
     "metadata": {},
     "output_type": "execute_result"
    }
   ],
   "source": [
    "fuel_data.isnull().sum()"
   ]
  },
  {
   "cell_type": "code",
   "execution_count": 30,
   "metadata": {},
   "outputs": [
    {
     "data": {
      "text/plain": [
       "fuel_unit\n",
       "bbl        7998\n",
       "gal          84\n",
       "gramsU      464\n",
       "kgU         110\n",
       "mcf       11354\n",
       "mmbtu       180\n",
       "mwdth        95\n",
       "mwhth       100\n",
       "ton        8958\n",
       "Name: fuel_unit, dtype: int64"
      ]
     },
     "execution_count": 30,
     "metadata": {},
     "output_type": "execute_result"
    }
   ],
   "source": [
    "fuel_data.groupby('fuel_unit')['fuel_unit'].count()"
   ]
  },
  {
   "cell_type": "code",
   "execution_count": 31,
   "metadata": {},
   "outputs": [],
   "source": [
    "fuel_data[['fuel_unit']] = fuel_data[['fuel_unit']].fillna(value='mcf')"
   ]
  },
  {
   "cell_type": "code",
   "execution_count": 32,
   "metadata": {},
   "outputs": [
    {
     "data": {
      "text/plain": [
       "record_id                       0\n",
       "utility_id_ferc1                0\n",
       "report_year                     0\n",
       "plant_name_ferc1                0\n",
       "fuel_type_code_pudl             0\n",
       "fuel_unit                       0\n",
       "fuel_qty_burned                 0\n",
       "fuel_mmbtu_per_unit             0\n",
       "fuel_cost_per_unit_burned       0\n",
       "fuel_cost_per_unit_delivered    0\n",
       "fuel_cost_per_mmbtu             0\n",
       "dtype: int64"
      ]
     },
     "execution_count": 32,
     "metadata": {},
     "output_type": "execute_result"
    }
   ],
   "source": [
    "fuel_data.isnull().sum()"
   ]
  },
  {
   "cell_type": "code",
   "execution_count": 37,
   "metadata": {},
   "outputs": [
    {
     "data": {
      "text/html": [
       "<div>\n",
       "<style scoped>\n",
       "    .dataframe tbody tr th:only-of-type {\n",
       "        vertical-align: middle;\n",
       "    }\n",
       "\n",
       "    .dataframe tbody tr th {\n",
       "        vertical-align: top;\n",
       "    }\n",
       "\n",
       "    .dataframe thead th {\n",
       "        text-align: right;\n",
       "    }\n",
       "</style>\n",
       "<table border=\"1\" class=\"dataframe\">\n",
       "  <thead>\n",
       "    <tr style=\"text-align: right;\">\n",
       "      <th></th>\n",
       "      <th>utility_id_ferc1</th>\n",
       "      <th>report_year</th>\n",
       "      <th>fuel_qty_burned</th>\n",
       "      <th>fuel_mmbtu_per_unit</th>\n",
       "      <th>fuel_cost_per_unit_burned</th>\n",
       "      <th>fuel_cost_per_unit_delivered</th>\n",
       "      <th>fuel_cost_per_mmbtu</th>\n",
       "    </tr>\n",
       "    <tr>\n",
       "      <th>fuel_type_code_pudl</th>\n",
       "      <th></th>\n",
       "      <th></th>\n",
       "      <th></th>\n",
       "      <th></th>\n",
       "      <th></th>\n",
       "      <th></th>\n",
       "      <th></th>\n",
       "    </tr>\n",
       "  </thead>\n",
       "  <tbody>\n",
       "    <tr>\n",
       "      <th>coal</th>\n",
       "      <td>115.637534</td>\n",
       "      <td>2004.623143</td>\n",
       "      <td>1.903473e+06</td>\n",
       "      <td>20.762780</td>\n",
       "      <td>67.421830</td>\n",
       "      <td>116.951141</td>\n",
       "      <td>1.787190</td>\n",
       "    </tr>\n",
       "    <tr>\n",
       "      <th>gas</th>\n",
       "      <td>124.122062</td>\n",
       "      <td>2005.978060</td>\n",
       "      <td>4.843183e+06</td>\n",
       "      <td>1.021913</td>\n",
       "      <td>13.659397</td>\n",
       "      <td>12.095172</td>\n",
       "      <td>5.408876</td>\n",
       "    </tr>\n",
       "    <tr>\n",
       "      <th>nuclear</th>\n",
       "      <td>107.397311</td>\n",
       "      <td>2002.970660</td>\n",
       "      <td>5.454838e+06</td>\n",
       "      <td>17.582120</td>\n",
       "      <td>4955.157002</td>\n",
       "      <td>28616.915039</td>\n",
       "      <td>1.716559</td>\n",
       "    </tr>\n",
       "    <tr>\n",
       "      <th>oil</th>\n",
       "      <td>113.236235</td>\n",
       "      <td>2007.195933</td>\n",
       "      <td>6.311677e+04</td>\n",
       "      <td>5.814377</td>\n",
       "      <td>168.877086</td>\n",
       "      <td>313.907691</td>\n",
       "      <td>12.698732</td>\n",
       "    </tr>\n",
       "    <tr>\n",
       "      <th>other</th>\n",
       "      <td>110.467066</td>\n",
       "      <td>2001.700599</td>\n",
       "      <td>2.948137e+06</td>\n",
       "      <td>0.572752</td>\n",
       "      <td>18.253856</td>\n",
       "      <td>16.871485</td>\n",
       "      <td>155.084910</td>\n",
       "    </tr>\n",
       "    <tr>\n",
       "      <th>waste</th>\n",
       "      <td>154.253968</td>\n",
       "      <td>2005.650794</td>\n",
       "      <td>1.171914e+05</td>\n",
       "      <td>0.341163</td>\n",
       "      <td>19.518122</td>\n",
       "      <td>18.413052</td>\n",
       "      <td>822.709937</td>\n",
       "    </tr>\n",
       "  </tbody>\n",
       "</table>\n",
       "</div>"
      ],
      "text/plain": [
       "                     utility_id_ferc1  report_year  fuel_qty_burned  \\\n",
       "fuel_type_code_pudl                                                   \n",
       "coal                       115.637534  2004.623143     1.903473e+06   \n",
       "gas                        124.122062  2005.978060     4.843183e+06   \n",
       "nuclear                    107.397311  2002.970660     5.454838e+06   \n",
       "oil                        113.236235  2007.195933     6.311677e+04   \n",
       "other                      110.467066  2001.700599     2.948137e+06   \n",
       "waste                      154.253968  2005.650794     1.171914e+05   \n",
       "\n",
       "                     fuel_mmbtu_per_unit  fuel_cost_per_unit_burned  \\\n",
       "fuel_type_code_pudl                                                   \n",
       "coal                           20.762780                  67.421830   \n",
       "gas                             1.021913                  13.659397   \n",
       "nuclear                        17.582120                4955.157002   \n",
       "oil                             5.814377                 168.877086   \n",
       "other                           0.572752                  18.253856   \n",
       "waste                           0.341163                  19.518122   \n",
       "\n",
       "                     fuel_cost_per_unit_delivered  fuel_cost_per_mmbtu  \n",
       "fuel_type_code_pudl                                                     \n",
       "coal                                   116.951141             1.787190  \n",
       "gas                                     12.095172             5.408876  \n",
       "nuclear                              28616.915039             1.716559  \n",
       "oil                                    313.907691            12.698732  \n",
       "other                                   16.871485           155.084910  \n",
       "waste                                   18.413052           822.709937  "
      ]
     },
     "execution_count": 37,
     "metadata": {},
     "output_type": "execute_result"
    }
   ],
   "source": [
    "fuel_data.groupby('fuel_type_code_pudl').mean()"
   ]
  },
  {
   "cell_type": "code",
   "execution_count": 39,
   "metadata": {},
   "outputs": [
    {
     "data": {
      "text/plain": [
       "15.851495469109503"
      ]
     },
     "execution_count": 39,
     "metadata": {},
     "output_type": "execute_result"
    }
   ],
   "source": [
    "fuel_data['fuel_qty_burned'].skew()"
   ]
  },
  {
   "cell_type": "code",
   "execution_count": 40,
   "metadata": {
    "scrolled": true
   },
   "outputs": [
    {
     "data": {
      "text/plain": [
       "651.3694501337732"
      ]
     },
     "execution_count": 40,
     "metadata": {},
     "output_type": "execute_result"
    }
   ],
   "source": [
    "fuel_data['fuel_qty_burned'].kurt()"
   ]
  },
  {
   "cell_type": "code",
   "execution_count": 42,
   "metadata": {},
   "outputs": [
    {
     "data": {
      "text/plain": [
       "0.609694136774718"
      ]
     },
     "execution_count": 42,
     "metadata": {},
     "output_type": "execute_result"
    }
   ],
   "source": [
    "180/29523 *100"
   ]
  },
  {
   "cell_type": "code",
   "execution_count": 43,
   "metadata": {},
   "outputs": [
    {
     "data": {
      "text/html": [
       "<div>\n",
       "<style scoped>\n",
       "    .dataframe tbody tr th:only-of-type {\n",
       "        vertical-align: middle;\n",
       "    }\n",
       "\n",
       "    .dataframe tbody tr th {\n",
       "        vertical-align: top;\n",
       "    }\n",
       "\n",
       "    .dataframe thead th {\n",
       "        text-align: right;\n",
       "    }\n",
       "</style>\n",
       "<table border=\"1\" class=\"dataframe\">\n",
       "  <thead>\n",
       "    <tr style=\"text-align: right;\">\n",
       "      <th></th>\n",
       "      <th>utility_id_ferc1</th>\n",
       "      <th>report_year</th>\n",
       "      <th>fuel_qty_burned</th>\n",
       "      <th>fuel_mmbtu_per_unit</th>\n",
       "      <th>fuel_cost_per_unit_burned</th>\n",
       "      <th>fuel_cost_per_unit_delivered</th>\n",
       "      <th>fuel_cost_per_mmbtu</th>\n",
       "    </tr>\n",
       "  </thead>\n",
       "  <tbody>\n",
       "    <tr>\n",
       "      <th>utility_id_ferc1</th>\n",
       "      <td>1.000000</td>\n",
       "      <td>0.093323</td>\n",
       "      <td>-0.057447</td>\n",
       "      <td>-0.066946</td>\n",
       "      <td>-0.037863</td>\n",
       "      <td>-0.016414</td>\n",
       "      <td>0.006122</td>\n",
       "    </tr>\n",
       "    <tr>\n",
       "      <th>report_year</th>\n",
       "      <td>0.093323</td>\n",
       "      <td>1.000000</td>\n",
       "      <td>0.012952</td>\n",
       "      <td>-0.110853</td>\n",
       "      <td>0.013599</td>\n",
       "      <td>-0.014043</td>\n",
       "      <td>0.010261</td>\n",
       "    </tr>\n",
       "    <tr>\n",
       "      <th>fuel_qty_burned</th>\n",
       "      <td>-0.057447</td>\n",
       "      <td>0.012952</td>\n",
       "      <td>1.000000</td>\n",
       "      <td>-0.080946</td>\n",
       "      <td>-0.018535</td>\n",
       "      <td>-0.003551</td>\n",
       "      <td>-0.001896</td>\n",
       "    </tr>\n",
       "    <tr>\n",
       "      <th>fuel_mmbtu_per_unit</th>\n",
       "      <td>-0.066946</td>\n",
       "      <td>-0.110853</td>\n",
       "      <td>-0.080946</td>\n",
       "      <td>1.000000</td>\n",
       "      <td>-0.010034</td>\n",
       "      <td>-0.009039</td>\n",
       "      <td>-0.005884</td>\n",
       "    </tr>\n",
       "    <tr>\n",
       "      <th>fuel_cost_per_unit_burned</th>\n",
       "      <td>-0.037863</td>\n",
       "      <td>0.013599</td>\n",
       "      <td>-0.018535</td>\n",
       "      <td>-0.010034</td>\n",
       "      <td>1.000000</td>\n",
       "      <td>0.011007</td>\n",
       "      <td>-0.000437</td>\n",
       "    </tr>\n",
       "    <tr>\n",
       "      <th>fuel_cost_per_unit_delivered</th>\n",
       "      <td>-0.016414</td>\n",
       "      <td>-0.014043</td>\n",
       "      <td>-0.003551</td>\n",
       "      <td>-0.009039</td>\n",
       "      <td>0.011007</td>\n",
       "      <td>1.000000</td>\n",
       "      <td>-0.000109</td>\n",
       "    </tr>\n",
       "    <tr>\n",
       "      <th>fuel_cost_per_mmbtu</th>\n",
       "      <td>0.006122</td>\n",
       "      <td>0.010261</td>\n",
       "      <td>-0.001896</td>\n",
       "      <td>-0.005884</td>\n",
       "      <td>-0.000437</td>\n",
       "      <td>-0.000109</td>\n",
       "      <td>1.000000</td>\n",
       "    </tr>\n",
       "  </tbody>\n",
       "</table>\n",
       "</div>"
      ],
      "text/plain": [
       "                              utility_id_ferc1  report_year  fuel_qty_burned  \\\n",
       "utility_id_ferc1                      1.000000     0.093323        -0.057447   \n",
       "report_year                           0.093323     1.000000         0.012952   \n",
       "fuel_qty_burned                      -0.057447     0.012952         1.000000   \n",
       "fuel_mmbtu_per_unit                  -0.066946    -0.110853        -0.080946   \n",
       "fuel_cost_per_unit_burned            -0.037863     0.013599        -0.018535   \n",
       "fuel_cost_per_unit_delivered         -0.016414    -0.014043        -0.003551   \n",
       "fuel_cost_per_mmbtu                   0.006122     0.010261        -0.001896   \n",
       "\n",
       "                              fuel_mmbtu_per_unit  fuel_cost_per_unit_burned  \\\n",
       "utility_id_ferc1                        -0.066946                  -0.037863   \n",
       "report_year                             -0.110853                   0.013599   \n",
       "fuel_qty_burned                         -0.080946                  -0.018535   \n",
       "fuel_mmbtu_per_unit                      1.000000                  -0.010034   \n",
       "fuel_cost_per_unit_burned               -0.010034                   1.000000   \n",
       "fuel_cost_per_unit_delivered            -0.009039                   0.011007   \n",
       "fuel_cost_per_mmbtu                     -0.005884                  -0.000437   \n",
       "\n",
       "                              fuel_cost_per_unit_delivered  \\\n",
       "utility_id_ferc1                                 -0.016414   \n",
       "report_year                                      -0.014043   \n",
       "fuel_qty_burned                                  -0.003551   \n",
       "fuel_mmbtu_per_unit                              -0.009039   \n",
       "fuel_cost_per_unit_burned                         0.011007   \n",
       "fuel_cost_per_unit_delivered                      1.000000   \n",
       "fuel_cost_per_mmbtu                              -0.000109   \n",
       "\n",
       "                              fuel_cost_per_mmbtu  \n",
       "utility_id_ferc1                         0.006122  \n",
       "report_year                              0.010261  \n",
       "fuel_qty_burned                         -0.001896  \n",
       "fuel_mmbtu_per_unit                     -0.005884  \n",
       "fuel_cost_per_unit_burned               -0.000437  \n",
       "fuel_cost_per_unit_delivered            -0.000109  \n",
       "fuel_cost_per_mmbtu                      1.000000  "
      ]
     },
     "execution_count": 43,
     "metadata": {},
     "output_type": "execute_result"
    }
   ],
   "source": [
    "fuel_data.corr()"
   ]
  },
  {
   "cell_type": "code",
   "execution_count": 45,
   "metadata": {},
   "outputs": [
    {
     "data": {
      "text/plain": [
       "report_year\n",
       "1994    1235\n",
       "1995    1201\n",
       "1996    1088\n",
       "1997    1094\n",
       "1998    1107\n",
       "1999    1050\n",
       "2000    1373\n",
       "2001    1356\n",
       "2002    1205\n",
       "2003    1211\n",
       "2004    1192\n",
       "2005    1269\n",
       "2006    1243\n",
       "2007    1264\n",
       "2008    1228\n",
       "2009    1222\n",
       "2010    1261\n",
       "2011    1240\n",
       "2012    1243\n",
       "2013    1199\n",
       "2014    1171\n",
       "2015    1093\n",
       "2016    1034\n",
       "2017     993\n",
       "2018     951\n",
       "Name: report_year, dtype: int64"
      ]
     },
     "execution_count": 45,
     "metadata": {},
     "output_type": "execute_result"
    }
   ],
   "source": [
    "fuel_data.groupby('report_year')['report_year'].count()"
   ]
  },
  {
   "cell_type": "code",
   "execution_count": 54,
   "metadata": {},
   "outputs": [
    {
     "data": {
      "text/plain": [
       "7964521.0"
      ]
     },
     "execution_count": 54,
     "metadata": {},
     "output_type": "execute_result"
    }
   ],
   "source": [
    "fuel_data['fuel_cost_per_unit_delivered'].max()"
   ]
  },
  {
   "cell_type": "code",
   "execution_count": null,
   "metadata": {},
   "outputs": [],
   "source": []
  }
 ],
 "metadata": {
  "kernelspec": {
   "display_name": "Python 3",
   "language": "python",
   "name": "python3"
  },
  "language_info": {
   "codemirror_mode": {
    "name": "ipython",
    "version": 3
   },
   "file_extension": ".py",
   "mimetype": "text/x-python",
   "name": "python",
   "nbconvert_exporter": "python",
   "pygments_lexer": "ipython3",
   "version": "3.7.6"
  }
 },
 "nbformat": 4,
 "nbformat_minor": 4
}
